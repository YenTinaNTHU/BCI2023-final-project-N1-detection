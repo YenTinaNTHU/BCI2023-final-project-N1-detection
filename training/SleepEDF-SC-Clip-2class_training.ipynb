{
 "cells": [
  {
   "attachments": {},
   "cell_type": "markdown",
   "metadata": {},
   "source": [
    "# Import Libraries"
   ]
  },
  {
   "cell_type": "code",
   "execution_count": 1,
   "metadata": {},
   "outputs": [],
   "source": [
    "import sys\n",
    "sys.path.append(\"../src/\")\n",
    "import os\n",
    "\n",
    "# import warnings\n",
    "# warnings.filterwarnings(\"ignore\")\n",
    "\n",
    "import numpy as np\n",
    "import pandas as pd"
   ]
  },
  {
   "cell_type": "code",
   "execution_count": 2,
   "metadata": {},
   "outputs": [],
   "source": [
    "# Machine Learning\n",
    "from sklearn.impute import SimpleImputer\n",
    "from sklearn.metrics import (\n",
    "    accuracy_score,\n",
    "    classification_report,\n",
    "    f1_score,\n",
    "    cohen_kappa_score,\n",
    "    log_loss,\n",
    ")\n",
    "from sklearn.model_selection import GroupKFold, StratifiedGroupKFold, cross_validate, StratifiedKFold\n",
    "from sklearn.pipeline import Pipeline\n",
    "from sklearn.preprocessing import QuantileTransformer\n",
    "\n",
    "from sklearn.linear_model import SGDClassifier"
   ]
  },
  {
   "cell_type": "code",
   "execution_count": 3,
   "metadata": {},
   "outputs": [],
   "source": [
    "import matplotlib.pyplot as plt"
   ]
  },
  {
   "cell_type": "code",
   "execution_count": 4,
   "metadata": {},
   "outputs": [],
   "source": [
    "from visualizations import plot_linear_classification_coefs\n",
    "from visualizations import plot_learning_curve\n",
    "from visualizations import plot_confusion_matrix"
   ]
  },
  {
   "attachments": {},
   "cell_type": "markdown",
   "metadata": {},
   "source": [
    "# Load Data"
   ]
  },
  {
   "cell_type": "code",
   "execution_count": 5,
   "metadata": {},
   "outputs": [],
   "source": [
    "df_feats = pd.read_parquet(\"../features/sleep-edf_cassette_clip_features_ALL_90s.parquet\")"
   ]
  },
  {
   "attachments": {},
   "cell_type": "markdown",
   "metadata": {},
   "source": [
    "# Preprocessing"
   ]
  },
  {
   "attachments": {},
   "cell_type": "markdown",
   "metadata": {},
   "source": [
    "## Applied Frequency bands"
   ]
  },
  {
   "cell_type": "code",
   "execution_count": 6,
   "metadata": {},
   "outputs": [],
   "source": [
    "eeg_signals = ['EEG Fpz-Cz', 'EEG Pz-Oz']\n",
    "bands = [\"alpha\", \"beta\", \"sdelta\", \"fdelta\", \"sigma\", \"theta\"]\n",
    "for eeg_sig in eeg_signals:\n",
    "    eeg_bands = [c for c in df_feats.columns if c.startswith(eeg_sig) and c.split(\"__\")[1] in bands]\n",
    "    windows = sorted(set(b.split(\"__\")[-1] for b in eeg_bands))\n",
    "    for window in windows:\n",
    "        # Select the spectral powers\n",
    "        delta = df_feats[\"__\".join([eeg_sig, \"sdelta\", window])] + df_feats[\"__\".join([eeg_sig, \"fdelta\", window])]\n",
    "        fdelta_theta = df_feats[\"__\".join([eeg_sig, \"fdelta\", window])] + df_feats[\"__\".join([eeg_sig, \"theta\", window])]\n",
    "        alpha = df_feats[\"__\".join([eeg_sig, \"alpha\", window])]\n",
    "        beta = df_feats[\"__\".join([eeg_sig, \"beta\", window])]\n",
    "        theta = df_feats[\"__\".join([eeg_sig, \"theta\", window])]\n",
    "        sigma = df_feats[\"__\".join([eeg_sig, \"sigma\", window])]\n",
    "        # Calculate the ratios\n",
    "        df_feats[\"__\".join([eeg_sig, \"fdelta+theta\", window])] = fdelta_theta.astype(\"float32\")        \n",
    "\n",
    "        df_feats[\"__\".join([eeg_sig, \"alpha/theta\", window])] = (alpha / theta).astype(\"float32\")\n",
    "        df_feats[\"__\".join([eeg_sig, \"delta/beta\", window])] = (delta / beta).astype(\"float32\")\n",
    "        df_feats[\"__\".join([eeg_sig, \"delta/sigma\", window])] = (delta / sigma).astype(\"float32\")\n",
    "        df_feats[\"__\".join([eeg_sig, \"delta/theta\", window])] = (delta / theta).astype(\"float32\")"
   ]
  },
  {
   "attachments": {},
   "cell_type": "markdown",
   "metadata": {},
   "source": [
    "## Add Different Time Window's Features"
   ]
  },
  {
   "cell_type": "code",
   "execution_count": 7,
   "metadata": {},
   "outputs": [],
   "source": [
    "skip_cols = [\"psg_file\", \"label\", \"patient_id\", \"file_id\", \"clip_id\"]\n",
    "feat_cols = [c for c in df_feats.columns if c not in skip_cols]\n",
    "# Add the 30s features from the minute before and the minute after the epoch (= current sample of 30s) to the epoch\n",
    "feats_30s = [f for f in df_feats.columns if ((\"w=30s\" in f) and (\"w=1m30s\" not in f))]\n",
    "feats_60s = [f for f in df_feats.columns if ((\"w=1m\" in f) and (\"w=1m30s\" not in f))]\n",
    "feats_90s = [f for f in df_feats.columns if (\"w=1m30s\" in f)]\n",
    "# print(len(feats_30s), len(feats_60s), len(feats_90s))\n",
    "dfs = []\n",
    "for psg_file in df_feats.psg_file.unique():\n",
    "    sub_df = df_feats[df_feats.psg_file == psg_file]\n",
    "\n",
    "    sub_df = sub_df.merge(\n",
    "        sub_df[feats_90s].shift(1).add_suffix(\"_shift=30s\"),\n",
    "        left_index=True,\n",
    "        right_index=True,\n",
    "    )\n",
    "    sub_df = sub_df.drop(columns=feats_90s)\n",
    "\n",
    "    sub_df = sub_df.merge(\n",
    "        sub_df[feats_60s].shift(1).add_suffix(\"_shift=30s\"),\n",
    "        left_index=True,\n",
    "        right_index=True,\n",
    "    )\n",
    "\n",
    "    sub_df = sub_df.merge(sub_df[feats_30s].shift(2).add_suffix(\"_shift=1m\"), left_index=True, right_index=True)\n",
    "    sub_df = sub_df.merge(sub_df[feats_30s].shift(1).add_suffix(\"_shift=30s\"), left_index=True, right_index=True)\n",
    "    sub_df = sub_df.merge(sub_df[feats_30s].shift(-1).add_suffix(\"_shift=-30s\"), left_index=True, right_index=True)\n",
    "    sub_df = sub_df.merge(sub_df[feats_30s].shift(-2).add_suffix(\"_shift=-1m\"), left_index=True, right_index=True)\n",
    "    dfs += [sub_df]\n",
    "df_feats = pd.concat(dfs)"
   ]
  },
  {
   "attachments": {},
   "cell_type": "markdown",
   "metadata": {},
   "source": [
    "## Postprocess the Label"
   ]
  },
  {
   "cell_type": "code",
   "execution_count": 8,
   "metadata": {},
   "outputs": [],
   "source": [
    "# Postprocess labels\n",
    "df_feats.loc[df_feats[\"label\"] == \"Sleep stage 4\", \"label\"] = \"Sleep stage 3\"\n",
    "df_feats = df_feats[df_feats[\"label\"] != \"Movement time\"]\n",
    "df_feats = df_feats[df_feats[\"label\"] != \"Sleep stage ?\"]  # Label that is given when recording is done / end of the night\n",
    "df_feats.loc[df_feats[\"label\"] != \"Sleep stage 1\", \"label\"] = \"Not Sleep stage 1\""
   ]
  },
  {
   "cell_type": "code",
   "execution_count": 9,
   "metadata": {},
   "outputs": [],
   "source": [
    "df_feats = df_feats[~df_feats[\"label\"].isna()]"
   ]
  },
  {
   "cell_type": "code",
   "execution_count": 10,
   "metadata": {},
   "outputs": [
    {
     "data": {
      "text/plain": [
       "(91487, 1051)"
      ]
     },
     "execution_count": 10,
     "metadata": {},
     "output_type": "execute_result"
    }
   ],
   "source": [
    "df_feats.shape"
   ]
  },
  {
   "cell_type": "code",
   "execution_count": 11,
   "metadata": {},
   "outputs": [
    {
     "data": {
      "text/plain": [
       "EEG Pz-Oz__delta/theta__w=1m                                    3297\n",
       "EEG Pz-Oz__fourier_entropy_{'bins': 3}__w=1m                    3297\n",
       "EEG Pz-Oz__beta__w=1m                                           3297\n",
       "EEG Pz-Oz__binned_entropy_{'max_bins': 10}__w=1m                3297\n",
       "EEG Pz-Oz__binned_entropy_{'max_bins': 30}__w=1m                3297\n",
       "                                                                ... \n",
       "EOG horizontal__binned_entropy_{'max_bins': 30}__w=1m           3297\n",
       "EOG horizontal__binned_entropy_{'max_bins': 5}__w=1m            3297\n",
       "EEG Fpz-Cz__TotalAbsPow__w=1m                                   3297\n",
       "EMG submental__fft_aggregated_{'aggtype': 'skew'}__w=30s          16\n",
       "EMG submental__fft_aggregated_{'aggtype': 'kurtosis'}__w=30s      16\n",
       "Length: 133, dtype: int64"
      ]
     },
     "execution_count": 11,
     "metadata": {},
     "output_type": "execute_result"
    }
   ],
   "source": [
    "no_shift_cols = [c for c in df_feats.columns if not \"shift=\" in c]# or \"w=1m\" in c or \"w=1m30s\" in c]\n",
    "len(no_shift_cols)\n",
    "normal_nan_mask = (df_feats[no_shift_cols].isna().sum() / df_feats.psg_file.nunique()).isin([0, 1, 2])\n",
    "df_feats[np.array(no_shift_cols)[~normal_nan_mask]].isna().sum().sort_values()[::-1]"
   ]
  },
  {
   "cell_type": "code",
   "execution_count": 12,
   "metadata": {},
   "outputs": [
    {
     "data": {
      "text/plain": [
       "0.03621279526052882"
      ]
     },
     "execution_count": 12,
     "metadata": {},
     "output_type": "execute_result"
    }
   ],
   "source": [
    "df_feats[np.array(no_shift_cols)[~normal_nan_mask]].isna().any(axis=1).sum() / len(df_feats)"
   ]
  },
  {
   "attachments": {},
   "cell_type": "markdown",
   "metadata": {},
   "source": [
    "## Plot the Number of Labels"
   ]
  },
  {
   "cell_type": "code",
   "execution_count": 13,
   "metadata": {},
   "outputs": [
    {
     "data": {
      "text/plain": [
       "<AxesSubplot:>"
      ]
     },
     "execution_count": 13,
     "metadata": {},
     "output_type": "execute_result"
    },
    {
     "data": {
      "image/png": "[encoded data removed]",
      "text/plain": [
       "<Figure size 432x288 with 1 Axes>"
      ]
     },
     "metadata": {
      "needs_background": "light"
     },
     "output_type": "display_data"
    }
   ],
   "source": [
    "df_feats[\"label\"].value_counts().plot(kind=\"bar\")"
   ]
  },
  {
   "cell_type": "code",
   "execution_count": 14,
   "metadata": {},
   "outputs": [
    {
     "data": {
      "text/plain": [
       "Not Sleep stage 1    77197\n",
       "Sleep stage 1        14290\n",
       "Name: label, dtype: int64"
      ]
     },
     "execution_count": 14,
     "metadata": {},
     "output_type": "execute_result"
    }
   ],
   "source": [
    "df_feats[\"label\"].value_counts()"
   ]
  },
  {
   "attachments": {},
   "cell_type": "markdown",
   "metadata": {},
   "source": [
    "# Linear Model"
   ]
  },
  {
   "cell_type": "code",
   "execution_count": 15,
   "metadata": {},
   "outputs": [],
   "source": [
    "skip_cols = [\"psg_file\", \"label\", \"patient_id\", \"file_id\", \"clip_id\"]\n",
    "feat_cols = [c for c in df_feats.columns if c not in skip_cols]"
   ]
  },
  {
   "cell_type": "code",
   "execution_count": 16,
   "metadata": {},
   "outputs": [],
   "source": [
    "### Create pipeline\n",
    "pipe = Pipeline(\n",
    "    [\n",
    "        (\"impute\", SimpleImputer()),\n",
    "        (\"scale\", QuantileTransformer(n_quantiles=100, subsample=200_000, random_state=0)),\n",
    "        (\n",
    "            \"linear_model\", SGDClassifier(\n",
    "                loss=\"log\",\n",
    "                average=True,\n",
    "                class_weight=\"balanced\",\n",
    "                n_jobs=5,\n",
    "                random_state=0,\n",
    "            ),\n",
    "        ),\n",
    "    ]\n",
    ")"
   ]
  },
  {
   "cell_type": "code",
   "execution_count": 17,
   "metadata": {},
   "outputs": [],
   "source": [
    "# Total of 10 folds\n",
    "gkfold = GroupKFold(n_splits=10)\n",
    "cv = gkfold.split(df_feats, df_feats[\"label\"], groups=df_feats.patient_id)\n",
    "\n",
    "res = cross_validate(\n",
    "    pipe,\n",
    "    df_feats[feat_cols],\n",
    "    df_feats[\"label\"],\n",
    "    scoring=[\"f1_macro\", \"balanced_accuracy\", \"accuracy\", \"neg_log_loss\"],\n",
    "    cv=cv,\n",
    "    n_jobs=25,\n",
    "    return_train_score=True,\n",
    "    return_estimator=True,\n",
    ")"
   ]
  },
  {
   "cell_type": "code",
   "execution_count": 18,
   "metadata": {},
   "outputs": [
    {
     "name": "stdout",
     "output_type": "stream",
     "text": [
      "10-FOLD: TRAIN\n",
      "  MACRO F1:           0.7393\n",
      "  Balanced accuracy:  0.8482\n",
      "  Accuracy:           0.8132\n",
      "  Log loss:           0.7213\n"
     ]
    }
   ],
   "source": [
    "print(\"10-FOLD: TRAIN\")\n",
    "print(\"  MACRO F1:          \", round(np.mean(res[\"train_f1_macro\"]), 4))\n",
    "print(\"  Balanced accuracy: \", round(np.mean(res[\"train_balanced_accuracy\"]), 4))\n",
    "print(\"  Accuracy:          \", round(np.mean(res[\"train_accuracy\"]), 4))\n",
    "print(\"  Log loss:          \", round(np.mean(-1 * res[\"train_neg_log_loss\"]), 4))"
   ]
  },
  {
   "cell_type": "code",
   "execution_count": 19,
   "metadata": {},
   "outputs": [
    {
     "name": "stdout",
     "output_type": "stream",
     "text": [
      "10-FOLD: TEST\n",
      "  MACRO F1:           0.7238\n",
      "  Balanced accuracy:  0.8252\n",
      "  Accuracy:           0.8035\n",
      "  Log loss:           0.782\n"
     ]
    }
   ],
   "source": [
    "print(\"10-FOLD: TEST\")\n",
    "print(\"  MACRO F1:          \", round(np.mean(res[\"test_f1_macro\"]), 4))\n",
    "print(\"  Balanced accuracy: \", round(np.mean(res[\"test_balanced_accuracy\"]), 4))\n",
    "print(\"  Accuracy:          \", round(np.mean(res[\"test_accuracy\"]), 4))\n",
    "print(\"  Log loss:          \", round(np.mean(-1 * res[\"test_neg_log_loss\"]), 4))"
   ]
  },
  {
   "cell_type": "code",
   "execution_count": 20,
   "metadata": {},
   "outputs": [],
   "source": [
    "preds = []\n",
    "preds_proba = []\n",
    "y_trues = []\n",
    "cv = gkfold.split(df_feats, df_feats[\"label\"], groups=df_feats.patient_id)\n",
    "for fold_ix, (train_idx, test_idx) in enumerate(cv):\n",
    "    X_train = df_feats[feat_cols].iloc[train_idx]\n",
    "    y_train = df_feats[\"label\"].iloc[train_idx]\n",
    "    X_test = df_feats[feat_cols].iloc[test_idx]\n",
    "    y_test = df_feats[\"label\"].iloc[test_idx]\n",
    "    \n",
    "    estimator = res[\"estimator\"][fold_ix]\n",
    "    preds += [estimator.predict(X_test)]\n",
    "    preds_proba += [estimator.predict_proba(X_test)]\n",
    "    y_trues += [y_test]\n",
    "\n",
    "preds = np.hstack(preds)\n",
    "y_trues = np.hstack(y_trues)\n",
    "preds_proba = np.vstack(preds_proba)"
   ]
  },
  {
   "cell_type": "code",
   "execution_count": 21,
   "metadata": {},
   "outputs": [
    {
     "name": "stdout",
     "output_type": "stream",
     "text": [
      "F1: 0.7239894857736465\n",
      "ACC: 0.803567720003935\n",
      "KAPPA: 0.4650399090361389\n",
      "LOG LOSS: 0.7816391581639898\n"
     ]
    }
   ],
   "source": [
    "print(\"F1:\", f1_score(preds, y_trues, average=\"macro\"))\n",
    "print(\"ACC:\", accuracy_score(preds, y_trues))\n",
    "print(\"KAPPA:\", cohen_kappa_score(preds, y_trues))\n",
    "print(\"LOG LOSS:\", log_loss(y_trues, preds_proba))"
   ]
  },
  {
   "cell_type": "code",
   "execution_count": 23,
   "metadata": {},
   "outputs": [
    {
     "data": {
      "text/plain": [
       "<AxesSubplot:title={'center':'Normalized confusion matrix'}, xlabel='Predicted label', ylabel='True label'>"
      ]
     },
     "execution_count": 23,
     "metadata": {},
     "output_type": "execute_result"
    },
    {
     "data": {
      "image/png": "[encoded data removed]",
      "text/plain": [
       "<Figure size 1800x864 with 4 Axes>"
      ]
     },
     "metadata": {
      "needs_background": "light"
     },
     "output_type": "display_data"
    }
   ],
   "source": [
    "classes = [\n",
    "    'Not Sleep stage 1',\n",
    "    'Sleep stage 1',\n",
    "]\n",
    "\n",
    "plt.figure(figsize=(25,12))\n",
    "ax = plt.subplot(1,2,1)\n",
    "plot_confusion_matrix(y_pred=preds, y_true=y_trues, classes=classes, normalize=False, ax=ax)\n",
    "ax = plt.subplot(1,2,2)\n",
    "plot_confusion_matrix(y_pred=preds, y_true=y_trues, classes=classes, normalize=True, ax=ax)"
   ]
  },
  {
   "cell_type": "code",
   "execution_count": null,
   "metadata": {},
   "outputs": [],
   "source": [
    "cv = gkfold.split(df_feats, df_feats[\"label\"], groups=df_feats.patient_id)\n",
    "\n",
    "_ = plot_learning_curve(\n",
    "    pipe,\n",
    "    title=\"Learning curve - F1 Macro\",\n",
    "    X=df_feats[feat_cols],\n",
    "    y=df_feats[\"label\"],\n",
    "    cv=cv,\n",
    "    scoring=\"f1_macro\",\n",
    "    n_jobs=25,\n",
    "    train_sizes=[0.05] + list(np.linspace(0.1,1,10))\n",
    ")"
   ]
  },
  {
   "attachments": {},
   "cell_type": "markdown",
   "metadata": {},
   "source": [
    "# Save the estimator"
   ]
  },
  {
   "cell_type": "code",
   "execution_count": 24,
   "metadata": {},
   "outputs": [
    {
     "data": {
      "text/plain": [
       "['../models/clip-2class.pkl']"
      ]
     },
     "execution_count": 24,
     "metadata": {},
     "output_type": "execute_result"
    }
   ],
   "source": [
    "import joblib\n",
    "# 將 res 物件儲存為檔案\n",
    "joblib.dump(res, \"../models/clip-2class.pkl\")"
   ]
  }
 ],
 "metadata": {
  "kernelspec": {
   "display_name": "BCI_2023",
   "language": "python",
   "name": "python3"
  },
  "language_info": {
   "codemirror_mode": {
    "name": "ipython",
    "version": 3
   },
   "file_extension": ".py",
   "mimetype": "text/x-python",
   "name": "python",
   "nbconvert_exporter": "python",
   "pygments_lexer": "ipython3",
   "version": "3.8.16"
  },
  "orig_nbformat": 4
 },
 "nbformat": 4,
 "nbformat_minor": 2
}
